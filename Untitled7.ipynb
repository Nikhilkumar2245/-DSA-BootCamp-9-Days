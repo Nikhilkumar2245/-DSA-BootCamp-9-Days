{
 "cells": [
  {
   "cell_type": "code",
   "execution_count": 3,
   "id": "c34aa842-5bdf-47b7-b393-a4c9e4799801",
   "metadata": {},
   "outputs": [
    {
     "name": "stdout",
     "output_type": "stream",
     "text": [
      "\n",
      "\n",
      "*** MENU ***\n",
      "1. Push\n",
      "2. Pop\n",
      "3. Display\n",
      "4. Exit\n"
     ]
    },
    {
     "name": "stdin",
     "output_type": "stream",
     "text": [
      "Enter your choice:  1\n",
      "Enter the value to be inserted:  5\n"
     ]
    },
    {
     "name": "stdout",
     "output_type": "stream",
     "text": [
      "\n",
      "Insertion success!!!\n",
      "\n",
      "\n",
      "*** MENU ***\n",
      "1. Push\n",
      "2. Pop\n",
      "3. Display\n",
      "4. Exit\n"
     ]
    },
    {
     "name": "stdin",
     "output_type": "stream",
     "text": [
      "Enter your choice:  2\n"
     ]
    },
    {
     "name": "stdout",
     "output_type": "stream",
     "text": [
      "\n",
      "Deleted: 5\n",
      "\n",
      "\n",
      "*** MENU ***\n",
      "1. Push\n",
      "2. Pop\n",
      "3. Display\n",
      "4. Exit\n"
     ]
    },
    {
     "name": "stdin",
     "output_type": "stream",
     "text": [
      "Enter your choice:  3\n"
     ]
    },
    {
     "name": "stdout",
     "output_type": "stream",
     "text": [
      "\n",
      "Stack is Empty!!!\n",
      "\n",
      "\n",
      "*** MENU ***\n",
      "1. Push\n",
      "2. Pop\n",
      "3. Display\n",
      "4. Exit\n"
     ]
    },
    {
     "name": "stdin",
     "output_type": "stream",
     "text": [
      "Enter your choice:  4\n"
     ]
    },
    {
     "name": "stdout",
     "output_type": "stream",
     "text": [
      "Exiting...\n"
     ]
    }
   ],
   "source": [
    "class Stack:\n",
    "    def __init__(self, size=10):\n",
    "        \"\"\"Initialize the stack with a fixed size.\"\"\"\n",
    "        self.size = size\n",
    "        self.stack = []\n",
    "    \n",
    "    def push(self, value):\n",
    "        \"\"\"Add an item to the top of the stack.\"\"\"\n",
    "        if len(self.stack) >= self.size:\n",
    "            print(\"\\nStack is Full!!! Insertion is not possible!!!\")\n",
    "        else:\n",
    "            self.stack.append(value)\n",
    "            print(\"\\nInsertion success!!!\")\n",
    "    \n",
    "    def pop(self):\n",
    "        \"\"\"Remove and return the item from the top of the stack.\"\"\"\n",
    "        if not self.stack:\n",
    "            print(\"\\nStack is Empty!!! Deletion is not possible!!!\")\n",
    "        else:\n",
    "            value = self.stack.pop()\n",
    "            print(f\"\\nDeleted: {value}\")\n",
    "    \n",
    "    def display(self):\n",
    "        \"\"\"Display all items in the stack.\"\"\"\n",
    "        if not self.stack:\n",
    "            print(\"\\nStack is Empty!!!\")\n",
    "        else:\n",
    "            print(\"\\nStack elements are:\")\n",
    "            for item in reversed(self.stack):\n",
    "                print(item)\n",
    "    \n",
    "def main():\n",
    "    stack = Stack()\n",
    "    while True:\n",
    "        print(\"\\n\\n*** MENU ***\")\n",
    "        print(\"1. Push\")\n",
    "        print(\"2. Pop\")\n",
    "        print(\"3. Display\")\n",
    "        print(\"4. Exit\")\n",
    "        \n",
    "        choice = input(\"Enter your choice: \")\n",
    "        if choice == '1':\n",
    "            value = int(input(\"Enter the value to be inserted: \"))\n",
    "            stack.push(value)\n",
    "        elif choice == '2':\n",
    "            stack.pop()\n",
    "        elif choice == '3':\n",
    "            stack.display()\n",
    "        elif choice == '4':\n",
    "            print(\"Exiting...\")\n",
    "            break\n",
    "        else:\n",
    "            print(\"\\nWrong selection!!! Try again!!!\")\n",
    "\n",
    "if __name__ == \"__main__\":\n",
    "    main()\n"
   ]
  },
  {
   "cell_type": "code",
   "execution_count": null,
   "id": "196dd69e-bd8d-4a95-bd65-ee009151579c",
   "metadata": {},
   "outputs": [],
   "source": []
  }
 ],
 "metadata": {
  "kernelspec": {
   "display_name": "Python 3 (ipykernel)",
   "language": "python",
   "name": "python3"
  },
  "language_info": {
   "codemirror_mode": {
    "name": "ipython",
    "version": 3
   },
   "file_extension": ".py",
   "mimetype": "text/x-python",
   "name": "python",
   "nbconvert_exporter": "python",
   "pygments_lexer": "ipython3",
   "version": "3.12.4"
  }
 },
 "nbformat": 4,
 "nbformat_minor": 5
}
